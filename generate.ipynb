{
 "cells": [
  {
   "cell_type": "markdown",
   "metadata": {},
   "source": [
    "### Imports and function definitions"
   ]
  },
  {
   "cell_type": "code",
   "execution_count": 24,
   "metadata": {
    "collapsed": false
   },
   "outputs": [],
   "source": [
    "#This directory contains all the data needed for the module. It should be in the same directory as the notebook\n",
    "dataFolder = \"data\" \n",
    "import sys, os, shutil, errno, string, urllib\n",
    "\n",
    "\n",
    "sys.path.append(( os.path.abspath( os.path.join(os.path.realpath(\"__file__\"),  os.pardir, os.pardir) )))\n",
    "import uvmodlib.v1 as uvmod"
   ]
  },
  {
   "cell_type": "code",
   "execution_count": 25,
   "metadata": {
    "collapsed": true
   },
   "outputs": [],
   "source": [
    "# Run this if you want to build in 3.0 rather than 2.0\n",
    "from config import Settings\n",
    "Settings.uvcustommodulelocation='C:\\\\Users\\\\msubbarao\\\\SCISS\\\\Uniview Theater 3.0\\\\Custom Modules'"
   ]
  },
  {
   "cell_type": "markdown",
   "metadata": {},
   "source": [
    "### USES Conf Template "
   ]
  },
  {
   "cell_type": "code",
   "execution_count": 71,
   "metadata": {
    "collapsed": true
   },
   "outputs": [],
   "source": [
    "Template = \"\"\"mesh\n",
    "{  \n",
    "    data  panaorama ./modules/$folderName/sphere.obj\n",
    "    data  barrel ./modules/$folderName/GTA.uvstream\n",
    "    cullRadius $cr\n",
    "    glslVersion 330\n",
    "    \n",
    "    propertyCollection \n",
    "    {        \n",
    "        __objectName__\n",
    "        {           \n",
    "            vec4f ColorMultiplier     $ColorMultiplier\n",
    "            vec3f RotationAxis        $RotationAxis\n",
    "            vec1f RotationAngle       $RotationAngle\n",
    "            vec1f displayFraction   $displayFraction | public | desc \"display fraction\" | widget slider | range 0 1\n",
    "            vec1f YearStart   $yearStart | public | desc \"year to start spiral\" | widget slider | range 1879 2018\n",
    "            vec1f YearStart   $yearStart | public | desc \"display fraction\" | widget slider | range 1879 2018\n",
    "            vec1f trailMin   $trailMin | public | desc \"spiral trail alpha min\" | widget slider | range 0 1\n",
    "            vec1f trailLength   $trailLength | public | desc \"spiral trail length\" | widget slider | range 0 10\n",
    "            vec1f spiralRadius  $spiralRadius | public | desc \"spiral radius\" | widget slider | range 0 50\n",
    "            vec1f spiralOffset  $spiralOffset | public | desc \"spiral height Offset\" | widget slider | range -1 1\n",
    "            vec1f spiralAngle  $spiralAngle | public | desc \"spiral height scale\" | widget slider | range 0 2\n",
    "        }\n",
    "    }\n",
    "    pass\n",
    "    {\n",
    "        useDataObject panaorama\n",
    "        shader\n",
    "        {\n",
    "            type defaultMeshShader\n",
    "            {\n",
    "                fragmentShader   ./modules/$folderName/co2Panorama.fs\n",
    "                vertexShader ./modules/$folderName/equirectangularPanorama.vs\n",
    "                \n",
    "                texture panorama ./modules/$folderName/$panorama\n",
    "                {\n",
    "                }\n",
    "                texture co2 ./modules/$folderName/co2.png\n",
    "                {\n",
    "                    magnify GL_NEAREST\n",
    "                    minify GL_NEAREST                \n",
    "                    wrapModeS GL_CLAMP_TO_EDGE\n",
    "                    wrapModeR GL_CLAMP_TO_EDGE\n",
    "                }\n",
    "                \n",
    "\n",
    "                parameter1f Scale $Scale\n",
    "                \n",
    "                stateManagerVar __objectName__.ColorMultiplier      ColorMultiplier\n",
    "                stateManagerVar __objectName__.RotationAxis         RotationAxis\n",
    "                stateManagerVar __objectName__.RotationAngle        RotationAngle\n",
    "                stateManagerVar __objectName__.displayFraction      displayFraction\n",
    "                stateManagerVar __objectName__.Alpha                uv_alpha\n",
    "                \n",
    "                glState\n",
    "                {\n",
    "                    UV_CULL_FACE_ENABLE false\n",
    "                    #UV_CULL_MODE GL_FRONT\n",
    "                    UV_BLEND_ENABLE true\n",
    "                    UV_BLEND_FUNC GL_SRC_ALPHA GL_ONE_MINUS_SRC_ALPHA\n",
    "                }\n",
    "            }\n",
    "\n",
    "        }    \n",
    "    }\n",
    "        pass\n",
    "    {\n",
    "        useDataObject barrel\n",
    "        shader\n",
    "        {\n",
    "            type defaultMeshShader\n",
    "            {\n",
    "                fragmentShader   ./modules/$folderName/barrel.fs\n",
    "                vertexShader ./modules/$folderName/barrel.vs\n",
    "                texture cmap ./modules/$folderName/cmap.png\n",
    "                {             \n",
    "                    wrapModeS GL_CLAMP_TO_EDGE\n",
    "                    wrapModeR GL_CLAMP_TO_EDGE\n",
    "                }\n",
    "                parameter1f Scale $Scale\n",
    "                \n",
    "                stateManagerVar __objectName__.yearStart            yearStart\n",
    "                stateManagerVar __objectName__.trailMin      trailMin\n",
    "                stateManagerVar __objectName__.trailLength      trailLength\n",
    "                stateManagerVar __objectName__.spiralAngle      spiralAngle\n",
    "                stateManagerVar __objectName__.spiralRadius      spiralRadius\n",
    "                stateManagerVar __objectName__.spiralOffset      spiralOffset\n",
    "                stateManagerVar __objectName__.RotationAxis         RotationAxis\n",
    "                stateManagerVar __objectName__.RotationAngle        RotationAngle\n",
    "                stateManagerVar __objectName__.Alpha                uv_alpha\n",
    "                \n",
    "                glState\n",
    "                {\n",
    "                    UV_CULL_FACE_ENABLE false\n",
    "                    #UV_CULL_MODE GL_FRONT\n",
    "                    UV_BLEND_ENABLE true\n",
    "                    UV_BLEND_FUNC GL_SRC_ALPHA GL_ONE_MINUS_SRC_ALPHA\n",
    "                    UV_LINE_WIDTH 4\n",
    "                }\n",
    "            }\n",
    "\n",
    "        }    \n",
    "    }\n",
    "    \n",
    "}\"\"\""
   ]
  },
  {
   "cell_type": "markdown",
   "metadata": {},
   "source": [
    "### UVStream"
   ]
  },
  {
   "cell_type": "code",
   "execution_count": 31,
   "metadata": {
    "collapsed": true
   },
   "outputs": [],
   "source": [
    "UVSTREAM='''<?xml version=\"1.0\" encoding=\"UTF-8\" standalone=\"no\"?>\n",
    "<DataStream version=\"0.1\">\n",
    "    <PrimitiveType>line_strip</PrimitiveType>\n",
    "    <DataBindings>\n",
    "        <Variable>\n",
    "            <Name>vertex</Name>         \n",
    "            <Type>vec2f</Type>\n",
    "        </Variable>\n",
    "        <Variable>\n",
    "            <Name>year</Name>         \n",
    "            <Type>float</Type>\n",
    "        </Variable>             \n",
    "        <Variable>\n",
    "            <Name>month</Name>         \n",
    "            <Type>float</Type>\n",
    "        </Variable>             \n",
    "        <Variable>\n",
    "            <Name>dT</Name>         \n",
    "            <Type>float</Type>\n",
    "        </Variable>             \n",
    "    </DataBindings>\n",
    "\n",
    "    <CSVData>\n",
    "        <Path>GLB.Ts.UV.csv</Path>\n",
    "        <Headers>\n",
    "            <Variable>              \n",
    "                <Cols>0,1</Cols>\n",
    "            </Variable>\n",
    "            <Variable>              \n",
    "                <Cols>2</Cols>\n",
    "            </Variable>                     \n",
    "            <Variable>              \n",
    "                <Cols>3</Cols>\n",
    "            </Variable>                     \n",
    "            <Variable>              \n",
    "                <Cols>4</Cols>\n",
    "            </Variable>                     \n",
    "         </Headers>\n",
    "    </CSVData>\n",
    "</DataStream>  \n",
    "'''"
   ]
  },
  {
   "cell_type": "code",
   "execution_count": 32,
   "metadata": {
    "collapsed": false
   },
   "outputs": [],
   "source": [
    "uvStreamFile=open('data/GTA.uvstream','w')\n",
    "uvStreamFile.write(UVSTREAM)\n",
    "uvStreamFile.close()"
   ]
  },
  {
   "cell_type": "markdown",
   "metadata": {},
   "source": [
    "### KeelingChicago class"
   ]
  },
  {
   "cell_type": "code",
   "execution_count": 72,
   "metadata": {
    "collapsed": false
   },
   "outputs": [],
   "source": [
    "class KeelingChicago():\n",
    "    def __init__(self, object):\n",
    "        self.object = object\n",
    "        uvmod.Utility.ensurerelativepathexsists(\"sphere.obj\",dataFolder)\n",
    "        uvmod.Utility.ensurerelativepathexsists(\"equirectangularPanorama.vs\",dataFolder)\n",
    "        uvmod.Utility.ensurerelativepathexsists(\"co2Panorama.fs\",dataFolder)\n",
    "        uvmod.Utility.ensurerelativepathexsists(\"barrel.vs\",dataFolder)\n",
    "        uvmod.Utility.ensurerelativepathexsists(\"barrel.fs\",dataFolder)\n",
    "        self.panorama = \"UNINITIALIZED\"\n",
    "        self.ColorMultiplier = \"1 1 1 1\"\n",
    "        self.yearStart = 1975\n",
    "        self.Scale = 1\n",
    "        self.trailMin =0.2\n",
    "        self.trailLength=1.0\n",
    "        self.spiralAngle = 0.8\n",
    "        self.spiralOffset = 0.0\n",
    "        self.spiralRadius = 15.\n",
    "        self.RotationAxis = \"1 0 0\"\n",
    "        self.cr = 1000\n",
    "        self.RotationAngle = 0\n",
    "        self.displayFraction = 0.0\n",
    "    def setPanorama(self, panorama):\n",
    "        uvmod.Utility.ensurerelativepathexsists(panorama,dataFolder)\n",
    "        self.panorama = panorama\n",
    "    def setColorMultiplier(self,ColorMultiplier):\n",
    "        self.ColorMultiplier = \" \".join(str(c) for c in ColorMultiplier)\n",
    "    def setScale(self,Scale):\n",
    "        self.Scale = Scale\n",
    "    def setRotationAxis(self,RotationAxis):\n",
    "        self.RotationAxis = \" \".join(str(c) for c in RotationAxis)\n",
    "    def setRotationAngle(self,RotationAngle):\n",
    "        self.RotationAngle = RotationAngle\n",
    "    def setDisplayFraction(self,displayFraction):\n",
    "        self.RotationAngle = displayFraction\n",
    "    def generatemod(self):\n",
    "        self.object.setgeometry(self.object.name+\"Mesh.usesconf\")\n",
    "        return self.object.generatemod()\n",
    "    def generatefiles(self, absOutDir, relOutDir):\n",
    "        fileName = self.object.name+\"Mesh.usesconf\"\n",
    "        s = string.Template(Template)\n",
    "        f = open(absOutDir+\"\\\\\"+fileName, 'w')\n",
    "        if f:\n",
    "            f.write(s.substitute(folderName = relOutDir,\n",
    "                                 cr = self.cr,\n",
    "                                 panorama = self.panorama,\n",
    "                                 ColorMultiplier = self.ColorMultiplier,\n",
    "                                 trailMin = self.trailMin,\n",
    "                                 trailLength = self.trailLength,\n",
    "                                 spiralAngle = self.spiralAngle,\n",
    "                                 spiralOffset= self.spiralOffset,\n",
    "                                 spiralRadius = self.spiralRadius,\n",
    "                                 Scale = self.Scale,\n",
    "                                 displayFraction = self.displayFraction,\n",
    "                                 yearStart=self.yearStart,\n",
    "                                 RotationAxis = self.RotationAxis,\n",
    "                                 RotationAngle = self.RotationAngle))\n",
    "            f.close()\n",
    "        uvmod.Utility.copyfoldercontents(os.getcwd()+\"\\\\\"+dataFolder, absOutDir)"
   ]
  },
  {
   "cell_type": "markdown",
   "metadata": {},
   "source": [
    "### Object Instantiation"
   ]
  },
  {
   "cell_type": "code",
   "execution_count": 73,
   "metadata": {
    "collapsed": false
   },
   "outputs": [],
   "source": [
    "model = KeelingChicago(uvmod.OrbitalObject())\n",
    "generator = uvmod.Generator()\n",
    "scene = uvmod.Scene()\n",
    "modinfo = uvmod.ModuleInformation()"
   ]
  },
  {
   "cell_type": "markdown",
   "metadata": {},
   "source": [
    "### Specify Settings and generate the module"
   ]
  },
  {
   "cell_type": "code",
   "execution_count": 74,
   "metadata": {
    "collapsed": false
   },
   "outputs": [],
   "source": [
    "model.object.setcameraradius(10)\n",
    "model.object.setcoord(\"Earth\")\n",
    "model.object.setname(\"KeelingChicago\")\n",
    "model.object.setguiname(\"/KavliLecture/Schrag/KeelingChicago\")\n",
    "model.object.settargetradius(20)\n",
    "model.object.showatstartup(False)\n",
    "model.setPanorama(\"R0010133.JPG\")\n",
    "model.setColorMultiplier((1.,1.,1.,1.))\n",
    "model.setScale(100)\n",
    "model.cr = 10000\n",
    "modinfo.setname(\"KeelingChicago\")\n",
    "modinfo.setauthor(\"Mark SubbaRao<sup>1</sup> and Daniel Schragg<sup>2</sup><br />(1)Adler Planetarium,br />(2)Harvard University\")\n",
    "modinfo.cleardependencies()\n",
    "modinfo.setdesc(\"Atmospheric CO2 as red blow, temp anomoly as barrel visualization\")\n",
    "modinfo.setthumbnail(\"data/R0010133.JPG\")\n",
    "modinfo.setversion(\"1.0\")\n",
    "\n",
    "generator.generate(\"KeelingChicago\",[],[model],modinfo)\n",
    "uvmod.Utility.senduvcommand(model.object.name+\".reload\")"
   ]
  },
  {
   "cell_type": "markdown",
   "metadata": {},
   "source": [
    "### Helper Functions for modifing code\n",
    "##### Reload Module and Shaders in Uniview"
   ]
  },
  {
   "cell_type": "code",
   "execution_count": 129,
   "metadata": {
    "collapsed": false
   },
   "outputs": [],
   "source": [
    "uvmod.Utility.senduvcommand(model.object.name+\".reload; system.reloadallshaders\")"
   ]
  },
  {
   "cell_type": "markdown",
   "metadata": {},
   "source": [
    "Copy modified Shader files and reload"
   ]
  },
  {
   "cell_type": "code",
   "execution_count": 13,
   "metadata": {
    "collapsed": true
   },
   "outputs": [],
   "source": [
    "from config import Settings\n"
   ]
  },
  {
   "cell_type": "code",
   "execution_count": 55,
   "metadata": {
    "collapsed": false
   },
   "outputs": [],
   "source": [
    "uvmod.Utility.copyfoldercontents(os.getcwd()+\"\\\\\"+dataFolder, Settings.uvcustommodulelocation+'\\\\'+model.object.name)\n",
    "uvmod.Utility.senduvcommand(model.object.name+\".reload\")"
   ]
  },
  {
   "cell_type": "markdown",
   "metadata": {
    "collapsed": true
   },
   "source": [
    "## CO2 data\n",
    "This notebook process the data for the Uniview Keeling Curve module, the atmospheric concentration of carbon dioxide over time. The curve is named after atmospheric scientist Charles David Keeling. It utilizes data from NOAA's https://www.esrl.noaa.gov/gmd/dv/iadv/graph.php?code=MLO&program=ccgg&type=ts> Earth Systems Research Laboratory collected from their Mauna Loa Observatory. We'll use he in-situ monthly average measurements."
   ]
  },
  {
   "cell_type": "code",
   "execution_count": 20,
   "metadata": {
    "collapsed": true
   },
   "outputs": [],
   "source": [
    "from astropy.io import ascii\n",
    "from PIL import Image\n",
    "import numpy as np"
   ]
  },
  {
   "cell_type": "code",
   "execution_count": 31,
   "metadata": {
    "collapsed": false
   },
   "outputs": [
    {
     "data": {
      "text/html": [
       "&lt;Table length=528&gt;\n",
       "<table id=\"table1901161886888\" class=\"table-striped table-bordered table-condensed\">\n",
       "<thead><tr><th>col1</th><th>col2</th><th>col3</th><th>col4</th><th>col5</th><th>col6</th><th>col7</th><th>col8</th><th>col9</th><th>col10</th><th>col11</th><th>col12</th><th>col13</th><th>col14</th><th>col15</th><th>col16</th><th>col17</th></tr></thead>\n",
       "<thead><tr><th>str3</th><th>int32</th><th>int32</th><th>int32</th><th>int32</th><th>int32</th><th>int32</th><th>float64</th><th>float64</th><th>int32</th><th>float64</th><th>float64</th><th>float64</th><th>float64</th><th>float64</th><th>str2</th><th>str3</th></tr></thead>\n",
       "<tr><td>MLO</td><td>1973</td><td>1</td><td>1</td><td>0</td><td>0</td><td>0</td><td>-999.99</td><td>-99.99</td><td>0</td><td>19.536</td><td>-155.576</td><td>3437.0</td><td>3397.0</td><td>40.0</td><td>NA</td><td>*..</td></tr>\n",
       "<tr><td>MLO</td><td>1973</td><td>2</td><td>1</td><td>0</td><td>0</td><td>0</td><td>-999.99</td><td>-99.99</td><td>0</td><td>19.536</td><td>-155.576</td><td>3437.0</td><td>3397.0</td><td>40.0</td><td>NA</td><td>*..</td></tr>\n",
       "<tr><td>MLO</td><td>1973</td><td>3</td><td>1</td><td>0</td><td>0</td><td>0</td><td>-999.99</td><td>-99.99</td><td>0</td><td>19.536</td><td>-155.576</td><td>3437.0</td><td>3397.0</td><td>40.0</td><td>NA</td><td>*..</td></tr>\n",
       "<tr><td>MLO</td><td>1973</td><td>4</td><td>1</td><td>0</td><td>0</td><td>0</td><td>-999.99</td><td>-99.99</td><td>0</td><td>19.536</td><td>-155.576</td><td>3437.0</td><td>3397.0</td><td>40.0</td><td>NA</td><td>*..</td></tr>\n",
       "<tr><td>MLO</td><td>1973</td><td>5</td><td>1</td><td>0</td><td>0</td><td>0</td><td>-999.99</td><td>-99.99</td><td>0</td><td>19.536</td><td>-155.576</td><td>3437.0</td><td>3397.0</td><td>40.0</td><td>NA</td><td>*..</td></tr>\n",
       "<tr><td>MLO</td><td>1973</td><td>6</td><td>1</td><td>0</td><td>0</td><td>0</td><td>-999.99</td><td>-99.99</td><td>0</td><td>19.536</td><td>-155.576</td><td>3437.0</td><td>3397.0</td><td>40.0</td><td>NA</td><td>*..</td></tr>\n",
       "<tr><td>MLO</td><td>1973</td><td>7</td><td>1</td><td>0</td><td>0</td><td>0</td><td>-999.99</td><td>-99.99</td><td>0</td><td>19.536</td><td>-155.576</td><td>3437.0</td><td>3397.0</td><td>40.0</td><td>NA</td><td>*..</td></tr>\n",
       "<tr><td>MLO</td><td>1973</td><td>8</td><td>1</td><td>0</td><td>0</td><td>0</td><td>-999.99</td><td>-99.99</td><td>0</td><td>19.536</td><td>-155.576</td><td>3437.0</td><td>3397.0</td><td>40.0</td><td>NA</td><td>*..</td></tr>\n",
       "<tr><td>MLO</td><td>1973</td><td>9</td><td>1</td><td>0</td><td>0</td><td>0</td><td>-999.99</td><td>-99.99</td><td>0</td><td>19.536</td><td>-155.576</td><td>3437.0</td><td>3397.0</td><td>40.0</td><td>NA</td><td>*..</td></tr>\n",
       "<tr><td>MLO</td><td>1973</td><td>10</td><td>1</td><td>0</td><td>0</td><td>0</td><td>-999.99</td><td>-99.99</td><td>0</td><td>19.536</td><td>-155.576</td><td>3437.0</td><td>3397.0</td><td>40.0</td><td>NA</td><td>*..</td></tr>\n",
       "<tr><td>...</td><td>...</td><td>...</td><td>...</td><td>...</td><td>...</td><td>...</td><td>...</td><td>...</td><td>...</td><td>...</td><td>...</td><td>...</td><td>...</td><td>...</td><td>...</td><td>...</td></tr>\n",
       "<tr><td>MLO</td><td>2016</td><td>3</td><td>1</td><td>0</td><td>0</td><td>0</td><td>404.83</td><td>1.05</td><td>29</td><td>19.536</td><td>-155.576</td><td>3437.0</td><td>3397.0</td><td>40.0</td><td>NA</td><td>...</td></tr>\n",
       "<tr><td>MLO</td><td>2016</td><td>4</td><td>1</td><td>0</td><td>0</td><td>0</td><td>407.44</td><td>1.24</td><td>25</td><td>19.536</td><td>-155.576</td><td>3437.0</td><td>3397.0</td><td>40.0</td><td>NA</td><td>...</td></tr>\n",
       "<tr><td>MLO</td><td>2016</td><td>5</td><td>1</td><td>0</td><td>0</td><td>0</td><td>407.71</td><td>0.48</td><td>29</td><td>19.536</td><td>-155.576</td><td>3437.0</td><td>3397.0</td><td>40.0</td><td>NA</td><td>...</td></tr>\n",
       "<tr><td>MLO</td><td>2016</td><td>6</td><td>1</td><td>0</td><td>0</td><td>0</td><td>406.82</td><td>0.74</td><td>26</td><td>19.536</td><td>-155.576</td><td>3437.0</td><td>3397.0</td><td>40.0</td><td>NA</td><td>...</td></tr>\n",
       "<tr><td>MLO</td><td>2016</td><td>7</td><td>1</td><td>0</td><td>0</td><td>0</td><td>404.32</td><td>1.16</td><td>28</td><td>19.536</td><td>-155.576</td><td>3437.0</td><td>3397.0</td><td>40.0</td><td>NA</td><td>...</td></tr>\n",
       "<tr><td>MLO</td><td>2016</td><td>8</td><td>1</td><td>0</td><td>0</td><td>0</td><td>402.27</td><td>1.0</td><td>23</td><td>19.536</td><td>-155.576</td><td>3437.0</td><td>3397.0</td><td>40.0</td><td>NA</td><td>...</td></tr>\n",
       "<tr><td>MLO</td><td>2016</td><td>9</td><td>1</td><td>0</td><td>0</td><td>0</td><td>401.03</td><td>0.48</td><td>24</td><td>19.536</td><td>-155.576</td><td>3437.0</td><td>3397.0</td><td>40.0</td><td>NA</td><td>...</td></tr>\n",
       "<tr><td>MLO</td><td>2016</td><td>10</td><td>1</td><td>0</td><td>0</td><td>0</td><td>401.57</td><td>0.59</td><td>29</td><td>19.536</td><td>-155.576</td><td>3437.0</td><td>3397.0</td><td>40.0</td><td>NA</td><td>...</td></tr>\n",
       "<tr><td>MLO</td><td>2016</td><td>11</td><td>1</td><td>0</td><td>0</td><td>0</td><td>403.54</td><td>0.94</td><td>27</td><td>19.536</td><td>-155.576</td><td>3437.0</td><td>3397.0</td><td>40.0</td><td>NA</td><td>...</td></tr>\n",
       "<tr><td>MLO</td><td>2016</td><td>12</td><td>1</td><td>0</td><td>0</td><td>0</td><td>404.44</td><td>0.51</td><td>29</td><td>19.536</td><td>-155.576</td><td>3437.0</td><td>3397.0</td><td>40.0</td><td>NA</td><td>...</td></tr>\n",
       "</table>"
      ],
      "text/plain": [
       "<Table length=528>\n",
       "col1  col2  col3  col4  col5  col6 ...  col13   col14   col15  col16 col17\n",
       "str3 int32 int32 int32 int32 int32 ... float64 float64 float64  str2  str3\n",
       "---- ----- ----- ----- ----- ----- ... ------- ------- ------- ----- -----\n",
       " MLO  1973     1     1     0     0 ...  3437.0  3397.0    40.0    NA   *..\n",
       " MLO  1973     2     1     0     0 ...  3437.0  3397.0    40.0    NA   *..\n",
       " MLO  1973     3     1     0     0 ...  3437.0  3397.0    40.0    NA   *..\n",
       " MLO  1973     4     1     0     0 ...  3437.0  3397.0    40.0    NA   *..\n",
       " MLO  1973     5     1     0     0 ...  3437.0  3397.0    40.0    NA   *..\n",
       " MLO  1973     6     1     0     0 ...  3437.0  3397.0    40.0    NA   *..\n",
       " MLO  1973     7     1     0     0 ...  3437.0  3397.0    40.0    NA   *..\n",
       " MLO  1973     8     1     0     0 ...  3437.0  3397.0    40.0    NA   *..\n",
       " MLO  1973     9     1     0     0 ...  3437.0  3397.0    40.0    NA   *..\n",
       " MLO  1973    10     1     0     0 ...  3437.0  3397.0    40.0    NA   *..\n",
       " ...   ...   ...   ...   ...   ... ...     ...     ...     ...   ...   ...\n",
       " MLO  2016     3     1     0     0 ...  3437.0  3397.0    40.0    NA   ...\n",
       " MLO  2016     4     1     0     0 ...  3437.0  3397.0    40.0    NA   ...\n",
       " MLO  2016     5     1     0     0 ...  3437.0  3397.0    40.0    NA   ...\n",
       " MLO  2016     6     1     0     0 ...  3437.0  3397.0    40.0    NA   ...\n",
       " MLO  2016     7     1     0     0 ...  3437.0  3397.0    40.0    NA   ...\n",
       " MLO  2016     8     1     0     0 ...  3437.0  3397.0    40.0    NA   ...\n",
       " MLO  2016     9     1     0     0 ...  3437.0  3397.0    40.0    NA   ...\n",
       " MLO  2016    10     1     0     0 ...  3437.0  3397.0    40.0    NA   ...\n",
       " MLO  2016    11     1     0     0 ...  3437.0  3397.0    40.0    NA   ...\n",
       " MLO  2016    12     1     0     0 ...  3437.0  3397.0    40.0    NA   ..."
      ]
     },
     "execution_count": 31,
     "metadata": {},
     "output_type": "execute_result"
    }
   ],
   "source": [
    "co2Table = ascii.read('rawdata/co2_mlo_surface-insitu_1_ccgg_MonthlyData.txt')\n",
    "\n",
    "co2Table"
   ]
  },
  {
   "cell_type": "code",
   "execution_count": 32,
   "metadata": {
    "collapsed": true
   },
   "outputs": [],
   "source": [
    "yearCol=co2Table['col2']+(co2Table['col3']-1.0)/12."
   ]
  },
  {
   "cell_type": "code",
   "execution_count": 28,
   "metadata": {
    "collapsed": false
   },
   "outputs": [
    {
     "data": {
      "text/plain": [
       "44"
      ]
     },
     "execution_count": 28,
     "metadata": {},
     "output_type": "execute_result"
    }
   ],
   "source": [
    "2018-1974"
   ]
  },
  {
   "cell_type": "code",
   "execution_count": 33,
   "metadata": {
    "collapsed": true
   },
   "outputs": [],
   "source": [
    "co2Texture = Image.new(\"RGB\",(44,12))"
   ]
  },
  {
   "cell_type": "code",
   "execution_count": 34,
   "metadata": {
    "collapsed": false
   },
   "outputs": [],
   "source": [
    "for monthData in co2Table:\n",
    "    iYear = monthData['col2']-1974\n",
    "    iMonth = monthData['col3']-1\n",
    "    valR=max(0,int(np.floor(monthData['col8'])-300))\n",
    "    valG=int(256.0*(monthData['col8']-np.floor(monthData['col8'])))\n",
    "    if (iYear>=0):\n",
    "        co2Texture.putpixel((iYear,iMonth),(valR,valG,0))"
   ]
  },
  {
   "cell_type": "code",
   "execution_count": 35,
   "metadata": {
    "collapsed": false
   },
   "outputs": [
    {
     "data": {
      "image/png": "[encoded data removed]",
      "text/plain": [
       "<PIL.Image.Image image mode=RGB size=44x12 at 0x1BAA69602B0>"
      ]
     },
     "execution_count": 35,
     "metadata": {},
     "output_type": "execute_result"
    }
   ],
   "source": [
    "co2Texture"
   ]
  },
  {
   "cell_type": "code",
   "execution_count": 36,
   "metadata": {
    "collapsed": true
   },
   "outputs": [],
   "source": [
    "co2Texture.save('data/co2.png')"
   ]
  },
  {
   "cell_type": "markdown",
   "metadata": {},
   "source": [
    "## Global Temperature Anomoly\n",
    "\n",
    "The dataset comes from the Goddard Institute for Space Studies: https://data.giss.nasa.gov/gistemp/"
   ]
  },
  {
   "cell_type": "code",
   "execution_count": 61,
   "metadata": {
    "collapsed": false
   },
   "outputs": [],
   "source": [
    "from astropy.io import ascii\n",
    "from astropy.table import Table, Column"
   ]
  },
  {
   "cell_type": "code",
   "execution_count": 57,
   "metadata": {
    "collapsed": true
   },
   "outputs": [],
   "source": [
    "dtTable = ascii.read('rawdata/GLB.Ts.csv',header_start=1,data_start=2)"
   ]
  },
  {
   "cell_type": "code",
   "execution_count": 58,
   "metadata": {
    "collapsed": false
   },
   "outputs": [
    {
     "data": {
      "text/html": [
       "&lt;Table length=139&gt;\n",
       "<table id=\"table2231874096880\" class=\"table-striped table-bordered table-condensed\">\n",
       "<thead><tr><th>Year</th><th>Jan</th><th>Feb</th><th>Mar</th><th>Apr</th><th>May</th><th>Jun</th><th>Jul</th><th>Aug</th><th>Sep</th><th>Oct</th><th>Nov</th><th>Dec</th><th>J-D</th><th>D-N</th><th>DJF</th><th>MAM</th><th>JJA</th><th>SON</th></tr></thead>\n",
       "<thead><tr><th>int32</th><th>float64</th><th>str5</th><th>str4</th><th>str4</th><th>str5</th><th>str5</th><th>str4</th><th>str4</th><th>str4</th><th>str4</th><th>str4</th><th>str4</th><th>str4</th><th>str4</th><th>str4</th><th>str4</th><th>str4</th><th>str4</th></tr></thead>\n",
       "<tr><td>1880</td><td>-0.8</td><td>-.37</td><td>-.45</td><td>-.64</td><td>-.34</td><td>-.47</td><td>-.46</td><td>.10</td><td>-.47</td><td>-.65</td><td>-.49</td><td>-.51</td><td>-.46</td><td>***</td><td>***</td><td>-.47</td><td>-.28</td><td>-.54</td></tr>\n",
       "<tr><td>1881</td><td>-0.76</td><td>-.59</td><td>-.34</td><td>-.24</td><td>.00</td><td>-1.09</td><td>-.50</td><td>-.21</td><td>-.31</td><td>-.45</td><td>-.53</td><td>-.11</td><td>-.43</td><td>-.46</td><td>-.62</td><td>-.19</td><td>-.60</td><td>-.43</td></tr>\n",
       "<tr><td>1882</td><td>0.15</td><td>-.08</td><td>-.05</td><td>-.55</td><td>-.34</td><td>-.99</td><td>-.67</td><td>-.08</td><td>-.04</td><td>-.28</td><td>-.36</td><td>-.64</td><td>-.33</td><td>-.28</td><td>-.01</td><td>-.31</td><td>-.58</td><td>-.23</td></tr>\n",
       "<tr><td>1883</td><td>-0.65</td><td>-.91</td><td>-.43</td><td>-.28</td><td>-.32</td><td>.47</td><td>.02</td><td>-.12</td><td>-.42</td><td>-.53</td><td>-.66</td><td>-.36</td><td>-.35</td><td>-.37</td><td>-.73</td><td>-.34</td><td>.12</td><td>-.54</td></tr>\n",
       "<tr><td>1884</td><td>-0.57</td><td>-.31</td><td>-.37</td><td>-.91</td><td>-1.16</td><td>-.79</td><td>-.81</td><td>.19</td><td>-.33</td><td>-.74</td><td>-.78</td><td>-.96</td><td>-.63</td><td>-.58</td><td>-.41</td><td>-.81</td><td>-.47</td><td>-.62</td></tr>\n",
       "<tr><td>1885</td><td>-0.89</td><td>-.76</td><td>-.88</td><td>-.83</td><td>-.45</td><td>-.90</td><td>-.59</td><td>-.12</td><td>-.12</td><td>.00</td><td>-.34</td><td>.05</td><td>-.49</td><td>-.57</td><td>-.87</td><td>-.72</td><td>-.54</td><td>-.15</td></tr>\n",
       "<tr><td>1886</td><td>-0.72</td><td>-.79</td><td>-.65</td><td>-.58</td><td>-.53</td><td>-.81</td><td>-.36</td><td>-.69</td><td>-.38</td><td>-.82</td><td>-.45</td><td>-.71</td><td>-.63</td><td>-.56</td><td>-.49</td><td>-.59</td><td>-.62</td><td>-.55</td></tr>\n",
       "<tr><td>1887</td><td>-0.84</td><td>-1.24</td><td>-.56</td><td>-.81</td><td>-.83</td><td>-.64</td><td>-.38</td><td>-.23</td><td>-.59</td><td>-.52</td><td>-.89</td><td>-.63</td><td>-.68</td><td>-.69</td><td>-.93</td><td>-.73</td><td>-.42</td><td>-.67</td></tr>\n",
       "<tr><td>1888</td><td>-0.7</td><td>-.79</td><td>-.87</td><td>-.28</td><td>-.72</td><td>-.52</td><td>-.33</td><td>-.32</td><td>-.38</td><td>-.24</td><td>-.02</td><td>-.14</td><td>-.44</td><td>-.48</td><td>-.70</td><td>-.62</td><td>-.39</td><td>-.22</td></tr>\n",
       "<tr><td>1889</td><td>-0.25</td><td>.21</td><td>.10</td><td>.16</td><td>.15</td><td>-.26</td><td>-.37</td><td>-.56</td><td>-.33</td><td>-.16</td><td>-.40</td><td>-.41</td><td>-.18</td><td>-.16</td><td>-.06</td><td>.14</td><td>-.40</td><td>-.30</td></tr>\n",
       "<tr><td>...</td><td>...</td><td>...</td><td>...</td><td>...</td><td>...</td><td>...</td><td>...</td><td>...</td><td>...</td><td>...</td><td>...</td><td>...</td><td>...</td><td>...</td><td>...</td><td>...</td><td>...</td><td>...</td></tr>\n",
       "<tr><td>2009</td><td>0.75</td><td>.75</td><td>.66</td><td>.75</td><td>.84</td><td>.81</td><td>.87</td><td>.85</td><td>.90</td><td>.73</td><td>.83</td><td>.77</td><td>.79</td><td>.79</td><td>.74</td><td>.75</td><td>.84</td><td>.82</td></tr>\n",
       "<tr><td>2010</td><td>0.98</td><td>1.06</td><td>1.13</td><td>1.00</td><td>.97</td><td>.85</td><td>.74</td><td>.83</td><td>.85</td><td>.95</td><td>1.01</td><td>.70</td><td>.92</td><td>.93</td><td>.94</td><td>1.03</td><td>.80</td><td>.94</td></tr>\n",
       "<tr><td>2011</td><td>0.72</td><td>.69</td><td>.77</td><td>.82</td><td>.64</td><td>.72</td><td>.91</td><td>.96</td><td>.77</td><td>.83</td><td>.78</td><td>.80</td><td>.78</td><td>.78</td><td>.70</td><td>.74</td><td>.86</td><td>.80</td></tr>\n",
       "<tr><td>2012</td><td>0.62</td><td>.58</td><td>.70</td><td>.80</td><td>.93</td><td>.72</td><td>.57</td><td>.85</td><td>.89</td><td>.92</td><td>.94</td><td>.72</td><td>.77</td><td>.78</td><td>.67</td><td>.81</td><td>.72</td><td>.92</td></tr>\n",
       "<tr><td>2013</td><td>0.98</td><td>.75</td><td>.85</td><td>.66</td><td>.66</td><td>.87</td><td>.66</td><td>.79</td><td>1.01</td><td>.86</td><td>.89</td><td>.84</td><td>.82</td><td>.81</td><td>.81</td><td>.72</td><td>.77</td><td>.92</td></tr>\n",
       "<tr><td>2014</td><td>0.96</td><td>.67</td><td>.78</td><td>.89</td><td>1.05</td><td>.78</td><td>.72</td><td>.85</td><td>1.10</td><td>1.01</td><td>.80</td><td>.98</td><td>.88</td><td>.87</td><td>.82</td><td>.91</td><td>.78</td><td>.97</td></tr>\n",
       "<tr><td>2015</td><td>0.95</td><td>1.08</td><td>1.11</td><td>.78</td><td>.85</td><td>.85</td><td>.70</td><td>.89</td><td>.81</td><td>1.20</td><td>1.19</td><td>1.39</td><td>.98</td><td>.95</td><td>1.00</td><td>.91</td><td>.81</td><td>1.07</td></tr>\n",
       "<tr><td>2016</td><td>1.36</td><td>1.65</td><td>1.64</td><td>1.35</td><td>1.15</td><td>.91</td><td>.97</td><td>1.30</td><td>1.10</td><td>1.21</td><td>1.18</td><td>1.12</td><td>1.24</td><td>1.27</td><td>1.47</td><td>1.38</td><td>1.06</td><td>1.16</td></tr>\n",
       "<tr><td>2017</td><td>1.13</td><td>1.42</td><td>1.38</td><td>1.16</td><td>1.22</td><td>.79</td><td>1.06</td><td>1.09</td><td>.96</td><td>1.15</td><td>1.04</td><td>1.17</td><td>1.13</td><td>1.13</td><td>1.23</td><td>1.25</td><td>.98</td><td>1.05</td></tr>\n",
       "<tr><td>2018</td><td>1.03</td><td>***</td><td>***</td><td>***</td><td>***</td><td>***</td><td>***</td><td>***</td><td>***</td><td>***</td><td>***</td><td>***</td><td>***</td><td>***</td><td>***</td><td>***</td><td>***</td><td>***</td></tr>\n",
       "</table>"
      ],
      "text/plain": [
       "<Table length=139>\n",
       " Year   Jan    Feb  Mar  Apr   May   Jun  ... Dec  J-D  D-N  DJF  MAM  JJA  SON \n",
       "int32 float64  str5 str4 str4  str5  str5 ... str4 str4 str4 str4 str4 str4 str4\n",
       "----- ------- ----- ---- ---- ----- ----- ... ---- ---- ---- ---- ---- ---- ----\n",
       " 1880    -0.8  -.37 -.45 -.64  -.34  -.47 ... -.51 -.46  ***  *** -.47 -.28 -.54\n",
       " 1881   -0.76  -.59 -.34 -.24   .00 -1.09 ... -.11 -.43 -.46 -.62 -.19 -.60 -.43\n",
       " 1882    0.15  -.08 -.05 -.55  -.34  -.99 ... -.64 -.33 -.28 -.01 -.31 -.58 -.23\n",
       " 1883   -0.65  -.91 -.43 -.28  -.32   .47 ... -.36 -.35 -.37 -.73 -.34  .12 -.54\n",
       " 1884   -0.57  -.31 -.37 -.91 -1.16  -.79 ... -.96 -.63 -.58 -.41 -.81 -.47 -.62\n",
       " 1885   -0.89  -.76 -.88 -.83  -.45  -.90 ...  .05 -.49 -.57 -.87 -.72 -.54 -.15\n",
       " 1886   -0.72  -.79 -.65 -.58  -.53  -.81 ... -.71 -.63 -.56 -.49 -.59 -.62 -.55\n",
       " 1887   -0.84 -1.24 -.56 -.81  -.83  -.64 ... -.63 -.68 -.69 -.93 -.73 -.42 -.67\n",
       " 1888    -0.7  -.79 -.87 -.28  -.72  -.52 ... -.14 -.44 -.48 -.70 -.62 -.39 -.22\n",
       " 1889   -0.25   .21  .10  .16   .15  -.26 ... -.41 -.18 -.16 -.06  .14 -.40 -.30\n",
       "  ...     ...   ...  ...  ...   ...   ... ...  ...  ...  ...  ...  ...  ...  ...\n",
       " 2009    0.75   .75  .66  .75   .84   .81 ...  .77  .79  .79  .74  .75  .84  .82\n",
       " 2010    0.98  1.06 1.13 1.00   .97   .85 ...  .70  .92  .93  .94 1.03  .80  .94\n",
       " 2011    0.72   .69  .77  .82   .64   .72 ...  .80  .78  .78  .70  .74  .86  .80\n",
       " 2012    0.62   .58  .70  .80   .93   .72 ...  .72  .77  .78  .67  .81  .72  .92\n",
       " 2013    0.98   .75  .85  .66   .66   .87 ...  .84  .82  .81  .81  .72  .77  .92\n",
       " 2014    0.96   .67  .78  .89  1.05   .78 ...  .98  .88  .87  .82  .91  .78  .97\n",
       " 2015    0.95  1.08 1.11  .78   .85   .85 ... 1.39  .98  .95 1.00  .91  .81 1.07\n",
       " 2016    1.36  1.65 1.64 1.35  1.15   .91 ... 1.12 1.24 1.27 1.47 1.38 1.06 1.16\n",
       " 2017    1.13  1.42 1.38 1.16  1.22   .79 ... 1.17 1.13 1.13 1.23 1.25  .98 1.05\n",
       " 2018    1.03   ***  ***  ***   ***   *** ...  ***  ***  ***  ***  ***  ***  ***"
      ]
     },
     "execution_count": 58,
     "metadata": {},
     "output_type": "execute_result"
    }
   ],
   "source": [
    "dtTable"
   ]
  },
  {
   "cell_type": "code",
   "execution_count": 88,
   "metadata": {
    "collapsed": false
   },
   "outputs": [],
   "source": [
    "monthTable = Table(names=('theta', 'z', 'Year','Month','dT'))"
   ]
  },
  {
   "cell_type": "code",
   "execution_count": 90,
   "metadata": {
    "collapsed": false
   },
   "outputs": [],
   "source": [
    "for year in dtTable:\n",
    "    for month in range(12):\n",
    "        if (year[month+1]!='***'):\n",
    "            monthTable.add_row([6.283*month/12.,year[month+1],year[0],month,year[month+1]])"
   ]
  },
  {
   "cell_type": "code",
   "execution_count": 94,
   "metadata": {
    "collapsed": false
   },
   "outputs": [],
   "source": [
    "monthTable.write('data/GLB.Ts.UV.csv',format='ascii.no_header',overwrite=True,delimiter=',')"
   ]
  },
  {
   "cell_type": "markdown",
   "metadata": {},
   "source": [
    "### Create colormap texture"
   ]
  },
  {
   "cell_type": "code",
   "execution_count": 23,
   "metadata": {
    "collapsed": false
   },
   "outputs": [
    {
     "data": {
      "image/png": "[encoded data removed]",
      "text/plain": [
       "<matplotlib.figure.Figure at 0x1bba7584b38>"
      ]
     },
     "metadata": {},
     "output_type": "display_data"
    }
   ],
   "source": [
    "import numpy as np\n",
    "import matplotlib.pyplot as plt\n",
    "from matplotlib import cm\n",
    "\n",
    "gradient = np.linspace(0, 1, 256)\n",
    "gradient = np.vstack((gradient, gradient))\n",
    "\n",
    "def plot_cmap(colormap):\n",
    "    fig=plt.imshow(gradient, aspect=1, cmap=colormap)\n",
    "    plt.axis('off')\n",
    "    fig.axes.get_xaxis().set_visible(False)\n",
    "    fig.axes.get_yaxis().set_visible(False)\n",
    "    plt.savefig(\"data/cmap.png\", bbox_inches='tight',pad_inches=0)\n",
    "\n",
    "plot_cmap('coolwarm')\n",
    "\n",
    "plt.show()"
   ]
  },
  {
   "cell_type": "code",
   "execution_count": null,
   "metadata": {
    "collapsed": true
   },
   "outputs": [],
   "source": []
  }
 ],
 "metadata": {
  "anaconda-cloud": {},
  "kernelspec": {
   "display_name": "Python [default]",
   "language": "python",
   "name": "python3"
  },
  "language_info": {
   "codemirror_mode": {
    "name": "ipython",
    "version": 3
   },
   "file_extension": ".py",
   "mimetype": "text/x-python",
   "name": "python",
   "nbconvert_exporter": "python",
   "pygments_lexer": "ipython3",
   "version": "3.5.2"
  }
 },
 "nbformat": 4,
 "nbformat_minor": 0
}
