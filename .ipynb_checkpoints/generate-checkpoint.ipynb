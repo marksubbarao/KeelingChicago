{
 "cells": [
  {
   "cell_type": "markdown",
   "metadata": {},
   "source": [
    "### Imports and function definitions"
   ]
  },
  {
   "cell_type": "code",
   "execution_count": 1,
   "metadata": {
    "collapsed": false
   },
   "outputs": [],
   "source": [
    "#This directory contains all the data needed for the module. It should be in the same directory as the notebook\n",
    "dataFolder = \"data\" \n",
    "import sys, os, shutil, errno, string, urllib\n",
    "\n",
    "\n",
    "sys.path.append(( os.path.abspath( os.path.join(os.path.realpath(\"__file__\"),  os.pardir, os.pardir) )))\n",
    "import uvmodlib.v1 as uvmod"
   ]
  },
  {
   "cell_type": "code",
   "execution_count": 2,
   "metadata": {
    "collapsed": true
   },
   "outputs": [],
   "source": [
    "# Run this if you want to build in 3.0 rather than 2.0\n",
    "from config import Settings\n",
    "Settings.uvcustommodulelocation='C:\\\\Users\\\\msubbarao\\\\SCISS\\\\Uniview Theater 3.0\\\\Custom Modules'"
   ]
  },
  {
   "cell_type": "markdown",
   "metadata": {},
   "source": [
    "### USES Conf Template "
   ]
  },
  {
   "cell_type": "code",
   "execution_count": null,
   "metadata": {
    "collapsed": true
   },
   "outputs": [],
   "source": [
    "Template = \"\"\"mesh\n",
    "{  \n",
    "    data  panaorama ./modules/$folderName/sphere.obj\n",
    "    cullRadius $cr\n",
    "    glslVersion 330\n",
    "    \n",
    "    propertyCollection \n",
    "    {        \n",
    "        __objectName__\n",
    "        {           \n",
    "            vec4f ColorMultiplier     $ColorMultiplier\n",
    "            vec3f RotationAxis        $RotationAxis\n",
    "            vec1f RotationAngle       $RotationAngle\n",
    "            vec1f displayFraction   $displayFraction | public | desc \"display fraction\" | widget slider | range 0 1\n",
    "        }\n",
    "    }\n",
    "    pass\n",
    "    {\n",
    "        useDataObject panaorama\n",
    "        shader\n",
    "        {\n",
    "            type defaultMeshShader\n",
    "            {\n",
    "                vertexShader   ./modules/$folderName/co2Panorama.vs\n",
    "                fragmentShader ./modules/$folderName/equirectangularPanorama.fs\n",
    "                \n",
    "                texture panorama ./modules/$folderName/$panorama\n",
    "                {\n",
    "                }\n",
    "                texture co2 ./modules/$folderName/co2.png\n",
    "                {\n",
    "                    magnify GL_NEAREST\n",
    "                    minify GL_NEAREST                \n",
    "                    wrapModeS GL_CLAMP_TO_EDGE\n",
    "                    wrapModeR GL_CLAMP_TO_EDGE\n",
    "                }\n",
    "                \n",
    "\n",
    "                parameter1f Scale $Scale\n",
    "                \n",
    "                stateManagerVar __objectName__.ColorMultiplier      ColorMultiplier\n",
    "                stateManagerVar __objectName__.RotationAxis         RotationAxis\n",
    "                stateManagerVar __objectName__.RotationAngle        RotationAngle\n",
    "                stateManagerVar __objectName__.displayFraction      displayFraction\n",
    "                stateManagerVar __objectName__.Alpha                uv_alpha\n",
    "                \n",
    "                glState\n",
    "                {\n",
    "                    UV_CULL_FACE_ENABLE false\n",
    "                    #UV_CULL_MODE GL_FRONT\n",
    "                    UV_BLEND_ENABLE true\n",
    "                    UV_BLEND_FUNC GL_SRC_ALPHA GL_ONE_MINUS_SRC_ALPHA\n",
    "                }\n",
    "            }\n",
    "\n",
    "        }    \n",
    "    }\n",
    "    \n",
    "}\"\"\""
   ]
  },
  {
   "cell_type": "markdown",
   "metadata": {},
   "source": [
    "### KeelingChicago class"
   ]
  },
  {
   "cell_type": "code",
   "execution_count": null,
   "metadata": {
    "collapsed": false
   },
   "outputs": [],
   "source": [
    "class KeelingChicago():\n",
    "    def __init__(self, object):\n",
    "        self.object = object\n",
    "        uvmod.Utility.ensurerelativepathexsists(\"sphere.obj\",dataFolder)\n",
    "        uvmod.Utility.ensurerelativepathexsists(\"equirectangularPanorama.vs\",dataFolder)\n",
    "        uvmod.Utility.ensurerelativepathexsists(\"equirectangularPanorama.fs\",dataFolder)\n",
    "        self.panorama = \"UNINITIALIZED\"\n",
    "        self.ColorMultiplier = \"1 1 1 1\"\n",
    "        self.Scale = 1\n",
    "        self.RotationAxis = \"1 0 0\"\n",
    "        self.cr = 1000\n",
    "        self.RotationAngle = 0\n",
    "        self.displayFraction = 0.0\n",
    "    def setPanorama(self, panorama):\n",
    "        uvmod.Utility.ensurerelativepathexsists(panorama,dataFolder)\n",
    "        self.panorama = panorama\n",
    "    def setColorMultiplier(self,ColorMultiplier):\n",
    "        self.ColorMultiplier = \" \".join(str(c) for c in ColorMultiplier)\n",
    "    def setScale(self,Scale):\n",
    "        self.Scale = Scale\n",
    "    def setRotationAxis(self,RotationAxis):\n",
    "        self.RotationAxis = \" \".join(str(c) for c in RotationAxis)\n",
    "    def setRotationAngle(self,RotationAngle):\n",
    "        self.RotationAngle = RotationAngle\n",
    "    def setDisplayFraction(self,displayFraction):\n",
    "        self.RotationAngle = displayFraction\n",
    "    def generatemod(self):\n",
    "        self.object.setgeometry(self.object.name+\"Mesh.usesconf\")\n",
    "        return self.object.generatemod()\n",
    "    def generatefiles(self, absOutDir, relOutDir):\n",
    "        fileName = self.object.name+\"Mesh.usesconf\"\n",
    "        s = string.Template(Template)\n",
    "        f = open(absOutDir+\"\\\\\"+fileName, 'w')\n",
    "        if f:\n",
    "            f.write(s.substitute(folderName = relOutDir,\n",
    "                                 cr = self.cr,\n",
    "                                 panorama = self.panorama,\n",
    "                                 ColorMultiplier = self.ColorMultiplier,\n",
    "                                 Scale = self.Scale,\n",
    "                                 displayFraction = self.displayFraction,\n",
    "                                 RotationAxis = self.RotationAxis,\n",
    "                                 RotationAngle = self.RotationAngle))\n",
    "            f.close()\n",
    "        uvmod.Utility.copyfoldercontents(os.getcwd()+\"\\\\\"+dataFolder, absOutDir)"
   ]
  },
  {
   "cell_type": "markdown",
   "metadata": {},
   "source": [
    "### Object Instantiation"
   ]
  },
  {
   "cell_type": "code",
   "execution_count": null,
   "metadata": {
    "collapsed": false
   },
   "outputs": [],
   "source": [
    "model = KeelingChicago(uvmod.OrbitalObject())\n",
    "generator = uvmod.Generator()\n",
    "scene = uvmod.Scene()\n",
    "modinfo = uvmod.ModuleInformation()"
   ]
  },
  {
   "cell_type": "markdown",
   "metadata": {},
   "source": [
    "### Specify Settings and generate the module"
   ]
  },
  {
   "cell_type": "code",
   "execution_count": 19,
   "metadata": {
    "collapsed": false
   },
   "outputs": [],
   "source": [
    "model.object.setcameraradius(10)\n",
    "model.object.setcoord(\"Earth\")\n",
    "model.object.setname(\"KeelingChicago\")\n",
    "model.object.setguiname(\"/KavliLecture/Schrag/KeelingChicago\")\n",
    "model.object.settargetradius(20)\n",
    "model.object.showatstartup(False)\n",
    "model.setPanorama(\"R0010133.JPG\")\n",
    "model.setColorMultiplier((1.,1.,1.,1.))\n",
    "model.setScale(100)\n",
    "model.cr = 10000\n",
    "modinfo.setname(\"KeelingChicago\")\n",
    "modinfo.setauthor(\"Mark SubbaRao<sup>1</sup> and Daniel Schragg<sup>2</sup><br />(1)Adler Planetarium,br />(2)Harvard University\")\n",
    "modinfo.cleardependencies()\n",
    "modinfo.setdesc(\"Atmospheric CO2 as red blow, temp anomoly as barrel visualization\")\n",
    "modinfo.setthumbnail(\"data/R0010133.JPG\")\n",
    "modinfo.setversion(\"1.0\")\n",
    "\n",
    "generator.generate(\"KeelingChicago\",[],[model],modinfo)\n",
    "uvmod.Utility.senduvcommand(model.object.name+\".reload; system.reloadallshaders\")"
   ]
  },
  {
   "cell_type": "markdown",
   "metadata": {},
   "source": [
    "### Helper Functions for modifing code\n",
    "##### Reload Module and Shaders in Uniview"
   ]
  },
  {
   "cell_type": "code",
   "execution_count": 129,
   "metadata": {
    "collapsed": false
   },
   "outputs": [],
   "source": [
    "uvmod.Utility.senduvcommand(model.object.name+\".reload; system.reloadallshaders\")"
   ]
  },
  {
   "cell_type": "markdown",
   "metadata": {},
   "source": [
    "Copy modified Shader files and reload"
   ]
  },
  {
   "cell_type": "code",
   "execution_count": 13,
   "metadata": {
    "collapsed": true
   },
   "outputs": [],
   "source": [
    "from config import Settings\n"
   ]
  },
  {
   "cell_type": "code",
   "execution_count": 31,
   "metadata": {
    "collapsed": false
   },
   "outputs": [],
   "source": [
    "uvmod.Utility.copyfoldercontents(os.getcwd()+\"\\\\\"+dataFolder, Settings.uvcustommodulelocation+'\\\\'+model.object.name)\n",
    "uvmod.Utility.senduvcommand(model.object.name+\".reload; system.reloadallshaders\")"
   ]
  },
  {
   "cell_type": "markdown",
   "metadata": {
    "collapsed": true
   },
   "source": [
    "## CO2 data\n",
    "This notebook process the data for the Uniview Keeling Curve module, the atmospheric concentration of carbon dioxide over time. The curve is named after atmospheric scientist Charles David Keeling. It utilizes data from NOAA's https://www.esrl.noaa.gov/gmd/dv/iadv/graph.php?code=MLO&program=ccgg&type=ts> Earth Systems Research Laboratory collected from their Mauna Loa Observatory. We'll use he in-situ monthly average measurements."
   ]
  },
  {
   "cell_type": "code",
   "execution_count": 20,
   "metadata": {
    "collapsed": true
   },
   "outputs": [],
   "source": [
    "from astropy.io import ascii\n",
    "from PIL import Image\n",
    "import numpy as np"
   ]
  },
  {
   "cell_type": "code",
   "execution_count": 31,
   "metadata": {
    "collapsed": false
   },
   "outputs": [
    {
     "data": {
      "text/html": [
       "&lt;Table length=528&gt;\n",
       "<table id=\"table1901161886888\" class=\"table-striped table-bordered table-condensed\">\n",
       "<thead><tr><th>col1</th><th>col2</th><th>col3</th><th>col4</th><th>col5</th><th>col6</th><th>col7</th><th>col8</th><th>col9</th><th>col10</th><th>col11</th><th>col12</th><th>col13</th><th>col14</th><th>col15</th><th>col16</th><th>col17</th></tr></thead>\n",
       "<thead><tr><th>str3</th><th>int32</th><th>int32</th><th>int32</th><th>int32</th><th>int32</th><th>int32</th><th>float64</th><th>float64</th><th>int32</th><th>float64</th><th>float64</th><th>float64</th><th>float64</th><th>float64</th><th>str2</th><th>str3</th></tr></thead>\n",
       "<tr><td>MLO</td><td>1973</td><td>1</td><td>1</td><td>0</td><td>0</td><td>0</td><td>-999.99</td><td>-99.99</td><td>0</td><td>19.536</td><td>-155.576</td><td>3437.0</td><td>3397.0</td><td>40.0</td><td>NA</td><td>*..</td></tr>\n",
       "<tr><td>MLO</td><td>1973</td><td>2</td><td>1</td><td>0</td><td>0</td><td>0</td><td>-999.99</td><td>-99.99</td><td>0</td><td>19.536</td><td>-155.576</td><td>3437.0</td><td>3397.0</td><td>40.0</td><td>NA</td><td>*..</td></tr>\n",
       "<tr><td>MLO</td><td>1973</td><td>3</td><td>1</td><td>0</td><td>0</td><td>0</td><td>-999.99</td><td>-99.99</td><td>0</td><td>19.536</td><td>-155.576</td><td>3437.0</td><td>3397.0</td><td>40.0</td><td>NA</td><td>*..</td></tr>\n",
       "<tr><td>MLO</td><td>1973</td><td>4</td><td>1</td><td>0</td><td>0</td><td>0</td><td>-999.99</td><td>-99.99</td><td>0</td><td>19.536</td><td>-155.576</td><td>3437.0</td><td>3397.0</td><td>40.0</td><td>NA</td><td>*..</td></tr>\n",
       "<tr><td>MLO</td><td>1973</td><td>5</td><td>1</td><td>0</td><td>0</td><td>0</td><td>-999.99</td><td>-99.99</td><td>0</td><td>19.536</td><td>-155.576</td><td>3437.0</td><td>3397.0</td><td>40.0</td><td>NA</td><td>*..</td></tr>\n",
       "<tr><td>MLO</td><td>1973</td><td>6</td><td>1</td><td>0</td><td>0</td><td>0</td><td>-999.99</td><td>-99.99</td><td>0</td><td>19.536</td><td>-155.576</td><td>3437.0</td><td>3397.0</td><td>40.0</td><td>NA</td><td>*..</td></tr>\n",
       "<tr><td>MLO</td><td>1973</td><td>7</td><td>1</td><td>0</td><td>0</td><td>0</td><td>-999.99</td><td>-99.99</td><td>0</td><td>19.536</td><td>-155.576</td><td>3437.0</td><td>3397.0</td><td>40.0</td><td>NA</td><td>*..</td></tr>\n",
       "<tr><td>MLO</td><td>1973</td><td>8</td><td>1</td><td>0</td><td>0</td><td>0</td><td>-999.99</td><td>-99.99</td><td>0</td><td>19.536</td><td>-155.576</td><td>3437.0</td><td>3397.0</td><td>40.0</td><td>NA</td><td>*..</td></tr>\n",
       "<tr><td>MLO</td><td>1973</td><td>9</td><td>1</td><td>0</td><td>0</td><td>0</td><td>-999.99</td><td>-99.99</td><td>0</td><td>19.536</td><td>-155.576</td><td>3437.0</td><td>3397.0</td><td>40.0</td><td>NA</td><td>*..</td></tr>\n",
       "<tr><td>MLO</td><td>1973</td><td>10</td><td>1</td><td>0</td><td>0</td><td>0</td><td>-999.99</td><td>-99.99</td><td>0</td><td>19.536</td><td>-155.576</td><td>3437.0</td><td>3397.0</td><td>40.0</td><td>NA</td><td>*..</td></tr>\n",
       "<tr><td>...</td><td>...</td><td>...</td><td>...</td><td>...</td><td>...</td><td>...</td><td>...</td><td>...</td><td>...</td><td>...</td><td>...</td><td>...</td><td>...</td><td>...</td><td>...</td><td>...</td></tr>\n",
       "<tr><td>MLO</td><td>2016</td><td>3</td><td>1</td><td>0</td><td>0</td><td>0</td><td>404.83</td><td>1.05</td><td>29</td><td>19.536</td><td>-155.576</td><td>3437.0</td><td>3397.0</td><td>40.0</td><td>NA</td><td>...</td></tr>\n",
       "<tr><td>MLO</td><td>2016</td><td>4</td><td>1</td><td>0</td><td>0</td><td>0</td><td>407.44</td><td>1.24</td><td>25</td><td>19.536</td><td>-155.576</td><td>3437.0</td><td>3397.0</td><td>40.0</td><td>NA</td><td>...</td></tr>\n",
       "<tr><td>MLO</td><td>2016</td><td>5</td><td>1</td><td>0</td><td>0</td><td>0</td><td>407.71</td><td>0.48</td><td>29</td><td>19.536</td><td>-155.576</td><td>3437.0</td><td>3397.0</td><td>40.0</td><td>NA</td><td>...</td></tr>\n",
       "<tr><td>MLO</td><td>2016</td><td>6</td><td>1</td><td>0</td><td>0</td><td>0</td><td>406.82</td><td>0.74</td><td>26</td><td>19.536</td><td>-155.576</td><td>3437.0</td><td>3397.0</td><td>40.0</td><td>NA</td><td>...</td></tr>\n",
       "<tr><td>MLO</td><td>2016</td><td>7</td><td>1</td><td>0</td><td>0</td><td>0</td><td>404.32</td><td>1.16</td><td>28</td><td>19.536</td><td>-155.576</td><td>3437.0</td><td>3397.0</td><td>40.0</td><td>NA</td><td>...</td></tr>\n",
       "<tr><td>MLO</td><td>2016</td><td>8</td><td>1</td><td>0</td><td>0</td><td>0</td><td>402.27</td><td>1.0</td><td>23</td><td>19.536</td><td>-155.576</td><td>3437.0</td><td>3397.0</td><td>40.0</td><td>NA</td><td>...</td></tr>\n",
       "<tr><td>MLO</td><td>2016</td><td>9</td><td>1</td><td>0</td><td>0</td><td>0</td><td>401.03</td><td>0.48</td><td>24</td><td>19.536</td><td>-155.576</td><td>3437.0</td><td>3397.0</td><td>40.0</td><td>NA</td><td>...</td></tr>\n",
       "<tr><td>MLO</td><td>2016</td><td>10</td><td>1</td><td>0</td><td>0</td><td>0</td><td>401.57</td><td>0.59</td><td>29</td><td>19.536</td><td>-155.576</td><td>3437.0</td><td>3397.0</td><td>40.0</td><td>NA</td><td>...</td></tr>\n",
       "<tr><td>MLO</td><td>2016</td><td>11</td><td>1</td><td>0</td><td>0</td><td>0</td><td>403.54</td><td>0.94</td><td>27</td><td>19.536</td><td>-155.576</td><td>3437.0</td><td>3397.0</td><td>40.0</td><td>NA</td><td>...</td></tr>\n",
       "<tr><td>MLO</td><td>2016</td><td>12</td><td>1</td><td>0</td><td>0</td><td>0</td><td>404.44</td><td>0.51</td><td>29</td><td>19.536</td><td>-155.576</td><td>3437.0</td><td>3397.0</td><td>40.0</td><td>NA</td><td>...</td></tr>\n",
       "</table>"
      ],
      "text/plain": [
       "<Table length=528>\n",
       "col1  col2  col3  col4  col5  col6 ...  col13   col14   col15  col16 col17\n",
       "str3 int32 int32 int32 int32 int32 ... float64 float64 float64  str2  str3\n",
       "---- ----- ----- ----- ----- ----- ... ------- ------- ------- ----- -----\n",
       " MLO  1973     1     1     0     0 ...  3437.0  3397.0    40.0    NA   *..\n",
       " MLO  1973     2     1     0     0 ...  3437.0  3397.0    40.0    NA   *..\n",
       " MLO  1973     3     1     0     0 ...  3437.0  3397.0    40.0    NA   *..\n",
       " MLO  1973     4     1     0     0 ...  3437.0  3397.0    40.0    NA   *..\n",
       " MLO  1973     5     1     0     0 ...  3437.0  3397.0    40.0    NA   *..\n",
       " MLO  1973     6     1     0     0 ...  3437.0  3397.0    40.0    NA   *..\n",
       " MLO  1973     7     1     0     0 ...  3437.0  3397.0    40.0    NA   *..\n",
       " MLO  1973     8     1     0     0 ...  3437.0  3397.0    40.0    NA   *..\n",
       " MLO  1973     9     1     0     0 ...  3437.0  3397.0    40.0    NA   *..\n",
       " MLO  1973    10     1     0     0 ...  3437.0  3397.0    40.0    NA   *..\n",
       " ...   ...   ...   ...   ...   ... ...     ...     ...     ...   ...   ...\n",
       " MLO  2016     3     1     0     0 ...  3437.0  3397.0    40.0    NA   ...\n",
       " MLO  2016     4     1     0     0 ...  3437.0  3397.0    40.0    NA   ...\n",
       " MLO  2016     5     1     0     0 ...  3437.0  3397.0    40.0    NA   ...\n",
       " MLO  2016     6     1     0     0 ...  3437.0  3397.0    40.0    NA   ...\n",
       " MLO  2016     7     1     0     0 ...  3437.0  3397.0    40.0    NA   ...\n",
       " MLO  2016     8     1     0     0 ...  3437.0  3397.0    40.0    NA   ...\n",
       " MLO  2016     9     1     0     0 ...  3437.0  3397.0    40.0    NA   ...\n",
       " MLO  2016    10     1     0     0 ...  3437.0  3397.0    40.0    NA   ...\n",
       " MLO  2016    11     1     0     0 ...  3437.0  3397.0    40.0    NA   ...\n",
       " MLO  2016    12     1     0     0 ...  3437.0  3397.0    40.0    NA   ..."
      ]
     },
     "execution_count": 31,
     "metadata": {},
     "output_type": "execute_result"
    }
   ],
   "source": [
    "co2Table = ascii.read('rawdata/co2_mlo_surface-insitu_1_ccgg_MonthlyData.txt')\n",
    "\n",
    "co2Table"
   ]
  },
  {
   "cell_type": "code",
   "execution_count": 32,
   "metadata": {
    "collapsed": true
   },
   "outputs": [],
   "source": [
    "yearCol=co2Table['col2']+(co2Table['col3']-1.0)/12."
   ]
  },
  {
   "cell_type": "code",
   "execution_count": 28,
   "metadata": {
    "collapsed": false
   },
   "outputs": [
    {
     "data": {
      "text/plain": [
       "44"
      ]
     },
     "execution_count": 28,
     "metadata": {},
     "output_type": "execute_result"
    }
   ],
   "source": [
    "2018-1974"
   ]
  },
  {
   "cell_type": "code",
   "execution_count": 33,
   "metadata": {
    "collapsed": true
   },
   "outputs": [],
   "source": [
    "co2Texture = Image.new(\"RGB\",(44,12))"
   ]
  },
  {
   "cell_type": "code",
   "execution_count": 34,
   "metadata": {
    "collapsed": false
   },
   "outputs": [],
   "source": [
    "for monthData in co2Table:\n",
    "    iYear = monthData['col2']-1974\n",
    "    iMonth = monthData['col3']-1\n",
    "    valR=max(0,int(np.floor(monthData['col8'])-300))\n",
    "    valG=int(256.0*(monthData['col8']-np.floor(monthData['col8'])))\n",
    "    if (iYear>=0):\n",
    "        co2Texture.putpixel((iYear,iMonth),(valR,valG,0))"
   ]
  },
  {
   "cell_type": "code",
   "execution_count": 35,
   "metadata": {
    "collapsed": false
   },
   "outputs": [
    {
     "data": {
      "image/png": "[encoded data removed]",
      "text/plain": [
       "<PIL.Image.Image image mode=RGB size=44x12 at 0x1BAA69602B0>"
      ]
     },
     "execution_count": 35,
     "metadata": {},
     "output_type": "execute_result"
    }
   ],
   "source": [
    "co2Texture"
   ]
  },
  {
   "cell_type": "code",
   "execution_count": 36,
   "metadata": {
    "collapsed": true
   },
   "outputs": [],
   "source": [
    "co2Texture.save('data/co2.png')"
   ]
  },
  {
   "cell_type": "code",
   "execution_count": null,
   "metadata": {
    "collapsed": true
   },
   "outputs": [],
   "source": []
  }
 ],
 "metadata": {
  "anaconda-cloud": {},
  "kernelspec": {
   "display_name": "Python [default]",
   "language": "python",
   "name": "python3"
  },
  "language_info": {
   "codemirror_mode": {
    "name": "ipython",
    "version": 3
   },
   "file_extension": ".py",
   "mimetype": "text/x-python",
   "name": "python",
   "nbconvert_exporter": "python",
   "pygments_lexer": "ipython3",
   "version": "3.5.2"
  }
 },
 "nbformat": 4,
 "nbformat_minor": 0
}
